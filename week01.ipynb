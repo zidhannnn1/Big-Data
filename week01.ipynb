{
 "cells": [
  {
   "cell_type": "markdown",
   "metadata": {},
   "source": [
    "Tugas 1 membuat modifikasi dengan menambahkan data lain berupa kolom pekerjaan, hobi dan gender."
   ]
  },
  {
   "cell_type": "code",
   "execution_count": 8,
   "metadata": {},
   "outputs": [
    {
     "name": "stdout",
     "output_type": "stream",
     "text": [
      "+------+----+---------+-------+------+\n",
      "|  Nama|Usia|Pekerjaan|   Hobi|Gender|\n",
      "+------+----+---------+-------+------+\n",
      "|Ridwan|  17|      DPR|Mancing|  Pria|\n",
      "|   Rio|  18|Mahasiswa|Ngoding|  Pria|\n",
      "| Restu|  21|   Dokter|Memasak|Wanita|\n",
      "|Faizal|  22| Presiden|Membaca|  Pria|\n",
      "+------+----+---------+-------+------+\n",
      "\n"
     ]
    }
   ],
   "source": [
    "# Praktik PySpark\n",
    "from pyspark.sql import SparkSession\n",
    "\n",
    "# Memulai Spark Session\n",
    "spark = SparkSession.builder.appName(\"PrakBigData\").getOrCreate()\n",
    "\n",
    "# Membuat DataFrame Sederhana\n",
    "data = [(\"Ridwan\", 17, \"DPR\",\"Mancing\",\"Pria\"), \n",
    "        (\"Rio\", 18, \"Mahasiswa\", \"Ngoding\",\"Pria\"),\n",
    "        (\"Restu\", 21, \"Dokter\", \"Memasak\", \"Wanita\"), \n",
    "        (\"Faizal\", 22, \"Presiden\", \"Membaca\", \"Pria\")]\n",
    "columns = [\"Nama\", \"Usia\",\"Pekerjaan\", \"Hobi\", \"Gender\"]\n",
    "df = spark.createDataFrame(data, columns)\n",
    "\n",
    "#Menampilkan DataFrame\n",
    "df.show()"
   ]
  },
  {
   "cell_type": "markdown",
   "metadata": {},
   "source": [
    "Tugas 2 melakukan filter, penghitungan rata-rata, dan pengurutan data menggunakan PySpark."
   ]
  },
  {
   "cell_type": "code",
   "execution_count": 9,
   "metadata": {},
   "outputs": [
    {
     "name": "stdout",
     "output_type": "stream",
     "text": [
      "+------+----+\n",
      "|  Nama|Usia|\n",
      "+------+----+\n",
      "|Ridwan|  17|\n",
      "|   Rio|  18|\n",
      "| Restu|  21|\n",
      "|Faizal|  22|\n",
      "+------+----+\n",
      "\n",
      "+------+----+\n",
      "|  Nama|Usia|\n",
      "+------+----+\n",
      "| Restu|  21|\n",
      "|Faizal|  22|\n",
      "+------+----+\n",
      "\n"
     ]
    },
    {
     "name": "stdout",
     "output_type": "stream",
     "text": [
      "+---------+\n",
      "|avg(Usia)|\n",
      "+---------+\n",
      "|     19.5|\n",
      "+---------+\n",
      "\n",
      "+------+----+\n",
      "|  Nama|Usia|\n",
      "+------+----+\n",
      "|Faizal|  22|\n",
      "| Restu|  21|\n",
      "|   Rio|  18|\n",
      "|Ridwan|  17|\n",
      "+------+----+\n",
      "\n"
     ]
    }
   ],
   "source": [
    "from pyspark.sql import SparkSession\n",
    "from pyspark.sql.functions import avg\n",
    "\n",
    "# Memulai Spark session\n",
    "spark = SparkSession.builder.appName(\"PrakBigData\").getOrCreate()\n",
    "\n",
    "# Membuat DataFrame sederhana\n",
    "data = [(\"Ridwan\", 17), (\"Rio\", 18), (\"Restu\", 21), (\"Faizal\", 22)]\n",
    "columns = [\"Nama\", \"Usia\"]\n",
    "df = spark.createDataFrame(data, columns)\n",
    "\n",
    "# Menampilkan DataFrame\n",
    "df.show()\n",
    "\n",
    "# Filtering data (usia lebih dari 20)\n",
    "df_filtered = df.filter(df['Usia'] > 20)\n",
    "df_filtered.show()\n",
    "\n",
    "# Menghitung rata-rata usia\n",
    "df.groupBy().agg(avg(\"Usia\")).show()\n",
    "\n",
    "# Mengurutkan data berdasarkan usia (descending)\n",
    "df_sorted = df.orderBy(\"Usia\", ascending=False)\n",
    "df_sorted.show()\n"
   ]
  },
  {
   "cell_type": "markdown",
   "metadata": {},
   "source": [
    "Tugas 3 Modifikasi DataFrame Pandas dengan menambahkan kolom baru dan melakukan operasi seperti filtering data berdasarkan usia."
   ]
  },
  {
   "cell_type": "code",
   "execution_count": 10,
   "metadata": {},
   "outputs": [
    {
     "name": "stdout",
     "output_type": "stream",
     "text": [
      "DataFrame Awal:\n",
      "     Nama  Usia\n",
      "0  Ridwan    17\n",
      "1     Rio    18\n",
      "2   Restu    21\n",
      "3  Faizal    22\n",
      "\n",
      "DataFrame Setelah Penambahan Kolom 'Status Usia':\n",
      "     Nama  Usia Status Usia\n",
      "0  Ridwan    17        Muda\n",
      "1     Rio    18        Muda\n",
      "2   Restu    21      Dewasa\n",
      "3  Faizal    22      Dewasa\n",
      "\n",
      "DataFrame Setelah Filtering (Usia > 20):\n",
      "     Nama  Usia Status Usia\n",
      "2   Restu    21      Dewasa\n",
      "3  Faizal    22      Dewasa\n"
     ]
    }
   ],
   "source": [
    "import pandas as pd\n",
    "\n",
    "# Membuat DataFrame Pandas\n",
    "data_pandas = {\"Nama\": [\"Ridwan\", \"Rio\", \"Restu\", \"Faizal\"], \"Usia\": [17, 18, 21, 22]}\n",
    "df_pandas = pd.DataFrame(data_pandas)\n",
    "\n",
    "# Menampilkan DataFrame awal\n",
    "print(\"DataFrame Awal:\")\n",
    "print(df_pandas)\n",
    "\n",
    "# Menambahkan kolom baru, misalnya \"Status Usia\"\n",
    "# Menambahkan kategori berdasarkan usia (misalnya, >20 dewasa, <=20 muda)\n",
    "df_pandas['Status Usia'] = df_pandas['Usia'].apply(lambda x: 'Dewasa' if x > 20 else 'Muda')\n",
    "\n",
    "# Menampilkan DataFrame setelah penambahan kolom baru\n",
    "print(\"\\nDataFrame Setelah Penambahan Kolom 'Status Usia':\")\n",
    "print(df_pandas)\n",
    "\n",
    "# Melakukan filtering berdasarkan usia (>20)\n",
    "df_filtered = df_pandas[df_pandas['Usia'] > 20]\n",
    "\n",
    "# Menampilkan hasil filtering\n",
    "print(\"\\nDataFrame Setelah Filtering (Usia > 20):\")\n",
    "print(df_filtered)\n"
   ]
  },
  {
   "cell_type": "markdown",
   "metadata": {},
   "source": [
    "Tugas 4 Melakukan penggabungan dataframe dan memvisualisasikan menggunakan data pandas"
   ]
  },
  {
   "cell_type": "code",
   "execution_count": 12,
   "metadata": {},
   "outputs": [
    {
     "name": "stdout",
     "output_type": "stream",
     "text": [
      "DataFrame Gabungan:\n",
      "     Nama  Usia   Pekerjaan\n",
      "0  Ridwan    17    Mahasewa\n",
      "1     Rio    18  Programmer\n",
      "2   Restu    21      Dokter\n",
      "3  Faizal    22     Perawat\n",
      "\n",
      "Statistik Deskriptif untuk DataFrame Pertama:\n",
      "            Usia\n",
      "count   4.000000\n",
      "mean   19.500000\n",
      "std     2.380476\n",
      "min    17.000000\n",
      "25%    17.750000\n",
      "50%    19.500000\n",
      "75%    21.250000\n",
      "max    22.000000\n"
     ]
    },
    {
     "data": {
      "image/png": "[encoded data removed]",
      "text/plain": [
       "<Figure size 640x480 with 1 Axes>"
      ]
     },
     "metadata": {},
     "output_type": "display_data"
    }
   ],
   "source": [
    "import pandas as pd\n",
    "import matplotlib.pyplot as plt\n",
    "\n",
    "# Membuat DataFrame Pandas pertama\n",
    "data_pandas = {\"Nama\": [\"Ridwan\", \"Rio\", \"Restu\", \"Faizal\"], \"Usia\": [17, 18, 21, 22]}\n",
    "df_pandas = pd.DataFrame(data_pandas)\n",
    "\n",
    "# Membuat DataFrame Pandas kedua\n",
    "data_pandas_2 = {\"Nama\": [\"Ridwan\", \"Rio\", \"Restu\", \"Faizal\"], \"Pekerjaan\": [\"Mahasewa\", \"Programmer\", \"Dokter\", \"Perawat\"]}\n",
    "df_pandas_2 = pd.DataFrame(data_pandas_2)\n",
    "\n",
    "# Menggabungkan dua DataFrame berdasarkan kolom 'Nama'\n",
    "df_joined = pd.merge(df_pandas, df_pandas_2, on=\"Nama\")\n",
    "print(\"DataFrame Gabungan:\")\n",
    "print(df_joined)\n",
    "\n",
    "# Menghitung statistik deskriptif untuk DataFrame pertama\n",
    "print(\"\\nStatistik Deskriptif untuk DataFrame Pertama:\")\n",
    "print(df_pandas.describe())\n",
    "\n",
    "# Visualisasi Data Usia dengan grafik batang\n",
    "df_pandas.plot(kind='bar', x='Nama', y='Usia', legend=False)\n",
    "plt.title('Visualisasi Usia Berdasarkan Nama')\n",
    "plt.ylabel('Usia')\n",
    "plt.xlabel('Nama')\n",
    "plt.show()\n"
   ]
  },
  {
   "cell_type": "markdown",
   "metadata": {},
   "source": [
    "Tugas 5: Gunakan metode ini untuk menggabungkan data yang Anda buat di PySpark dengan data dari Pandas, kemudian lakukan analisis sederhana seperti menghitung rata-rata usia"
   ]
  },
  {
   "cell_type": "code",
   "execution_count": 13,
   "metadata": {},
   "outputs": [
    {
     "name": "stdout",
     "output_type": "stream",
     "text": [
      "+------+----+\n",
      "|  Nama|Usia|\n",
      "+------+----+\n",
      "|Ridwan|  17|\n",
      "|   Rio|  18|\n",
      "| Restu|  21|\n",
      "|Faizal|  22|\n",
      "|Fadzil|  25|\n",
      "|Zuhdan|  24|\n",
      "|Zidhan|  19|\n",
      "+------+----+\n",
      "\n",
      "+------------------+\n",
      "|         avg(Usia)|\n",
      "+------------------+\n",
      "|20.857142857142858|\n",
      "+------------------+\n",
      "\n"
     ]
    }
   ],
   "source": [
    "from pyspark.sql import SparkSession\n",
    "import pandas as pd\n",
    "from pyspark.sql.functions import avg\n",
    "\n",
    "# Memulai Spark session\n",
    "spark = SparkSession.builder.appName(\"PrakBigData\").getOrCreate()\n",
    "\n",
    "# Membuat DataFrame PySpark\n",
    "data_spark = [(\"Ridwan\", 17), (\"Rio\", 18), (\"Restu\", 21), (\"Faizal\", 22)]\n",
    "columns = [\"Nama\", \"Usia\"]\n",
    "df_spark = spark.createDataFrame(data_spark, columns)\n",
    "\n",
    "# Membuat DataFrame Pandas\n",
    "data_pandas = {\"Nama\": [\"Fadzil\", \"Zuhdan\", \"Zidhan\"], \"Usia\": [25, 24, 19]}\n",
    "df_pandas = pd.DataFrame(data_pandas)\n",
    "\n",
    "# Mengonversi DataFrame PySpark ke Pandas\n",
    "df_pandas_from_spark = df_spark.toPandas()\n",
    "\n",
    "# Mengonversi DataFrame Pandas ke PySpark\n",
    "df_spark_from_pandas = spark.createDataFrame(df_pandas)\n",
    "\n",
    "# Gabungkan DataFrame PySpark yang sudah dikonversi dari Pandas dengan DataFrame PySpark asli\n",
    "df_combined_spark = df_spark.union(df_spark_from_pandas)\n",
    "\n",
    "# Menampilkan DataFrame hasil penggabungan\n",
    "df_combined_spark.show()\n",
    "\n",
    "# Analisis sederhana: menghitung rata-rata usia setelah penggabungan data\n",
    "df_combined_spark.groupBy().agg(avg(\"Usia\")).show()\n"
   ]
  },
  {
   "cell_type": "markdown",
   "metadata": {},
   "source": [
    "Tugas 6  Gabungkan data dari PySpark dan Pandas, lalu lakukan operasi statistik seperti menghitung nilai maksimum usia."
   ]
  },
  {
   "cell_type": "code",
   "execution_count": 14,
   "metadata": {},
   "outputs": [
    {
     "name": "stderr",
     "output_type": "stream",
     "text": [
      "24/08/26 03:22:41 WARN SparkSession: Using an existing Spark session; only runtime SQL configurations will take effect.\n"
     ]
    },
    {
     "name": "stdout",
     "output_type": "stream",
     "text": [
      "+-----+----+\n",
      "| Nama|Usia|\n",
      "+-----+----+\n",
      "|  Ali|  34|\n",
      "| Budi|  23|\n",
      "|Citra|  29|\n",
      "| Dina|  45|\n",
      "|  Eka|  27|\n",
      "|Farid|  32|\n",
      "| Gita|  36|\n",
      "+-----+----+\n",
      "\n",
      "+---------+\n",
      "|max(Usia)|\n",
      "+---------+\n",
      "|       45|\n",
      "+---------+\n",
      "\n"
     ]
    }
   ],
   "source": [
    "from pyspark.sql import SparkSession\n",
    "import pandas as pd\n",
    "from pyspark.sql.functions import max\n",
    "\n",
    "# Memulai Spark session\n",
    "spark = SparkSession.builder.appName(\"BigDataPractice\").getOrCreate()\n",
    "\n",
    "# Membuat DataFrame PySpark\n",
    "data_spark = [(\"Ali\", 34), (\"Budi\", 23), (\"Citra\", 29), (\"Dina\", 45)]\n",
    "columns = [\"Nama\", \"Usia\"]\n",
    "df_spark = spark.createDataFrame(data_spark, columns)\n",
    "\n",
    "# Membuat DataFrame Pandas\n",
    "data_pandas = {\"Nama\": [\"Eka\", \"Farid\", \"Gita\"], \"Usia\": [27, 32, 36]}\n",
    "df_pandas = pd.DataFrame(data_pandas)\n",
    "\n",
    "# Mengonversi DataFrame PySpark ke Pandas\n",
    "df_pandas_from_spark = df_spark.toPandas()\n",
    "\n",
    "# Mengonversi DataFrame Pandas ke PySpark\n",
    "df_spark_from_pandas = spark.createDataFrame(df_pandas)\n",
    "\n",
    "# Gabungkan DataFrame PySpark yang sudah dikonversi dari Pandas dengan DataFrame PySpark asli\n",
    "df_combined_spark = df_spark.union(df_spark_from_pandas)\n",
    "\n",
    "# Menampilkan DataFrame hasil penggabungan\n",
    "df_combined_spark.show()\n",
    "\n",
    "# Operasi statistik: menghitung nilai maksimum usia\n",
    "df_combined_spark.groupBy().agg(max(\"Usia\")).show()\n"
   ]
  }
 ],
 "metadata": {
  "kernelspec": {
   "display_name": "Python 3",
   "language": "python",
   "name": "python3"
  },
  "language_info": {
   "codemirror_mode": {
    "name": "ipython",
    "version": 3
   },
   "file_extension": ".py",
   "mimetype": "text/x-python",
   "name": "python",
   "nbconvert_exporter": "python",
   "pygments_lexer": "ipython3",
   "version": "3.12.1"
  }
 },
 "nbformat": 4,
 "nbformat_minor": 2
}
