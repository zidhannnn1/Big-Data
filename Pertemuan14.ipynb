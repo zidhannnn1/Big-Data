{
 "cells": [
  {
   "cell_type": "code",
   "execution_count": 1,
   "metadata": {},
   "outputs": [],
   "source": [
    "from pyspark.sql import SparkSession\n",
    "from pyspark.ml.feature import VectorAssembler"
   ]
  },
  {
   "cell_type": "code",
   "execution_count": 2,
   "metadata": {},
   "outputs": [
    {
     "name": "stderr",
     "output_type": "stream",
     "text": [
      "24/12/12 13:30:09 WARN Utils: Your hostname, codespaces-bb4c13 resolves to a loopback address: 127.0.0.1; using 10.0.0.237 instead (on interface eth0)\n",
      "24/12/12 13:30:09 WARN Utils: Set SPARK_LOCAL_IP if you need to bind to another address\n",
      "Setting default log level to \"WARN\".\n",
      "To adjust logging level use sc.setLogLevel(newLevel). For SparkR, use setLogLevel(newLevel).\n",
      "24/12/12 13:30:09 WARN NativeCodeLoader: Unable to load native-hadoop library for your platform... using builtin-java classes where applicable\n",
      "24/12/12 13:30:16 WARN Instrumentation: [50894ff4] regParam is zero, which might cause numerical instability and overfitting.\n",
      "24/12/12 13:30:18 WARN InstanceBuilder: Failed to load implementation from:dev.ludovic.netlib.blas.JNIBLAS\n",
      "24/12/12 13:30:18 WARN InstanceBuilder: Failed to load implementation from:dev.ludovic.netlib.blas.VectorBLAS\n",
      "24/12/12 13:30:18 WARN InstanceBuilder: Failed to load implementation from:dev.ludovic.netlib.lapack.JNILAPACK\n"
     ]
    },
    {
     "name": "stdout",
     "output_type": "stream",
     "text": [
      "Coefficients: [0.9999999999999992]\n",
      "Intercept: 15.000000000000009\n"
     ]
    },
    {
     "name": "stderr",
     "output_type": "stream",
     "text": [
      "24/12/12 13:30:23 WARN GarbageCollectionMetrics: To enable non-built-in garbage collector(s) List(G1 Concurrent GC), users should configure it(them) to spark.eventLog.gcMetrics.youngGenerationGarbageCollectors or spark.eventLog.gcMetrics.oldGenerationGarbageCollectors\n"
     ]
    }
   ],
   "source": [
    "# Example: Linear Regression with Spark MLlib\n",
    "from pyspark.ml.regression import LinearRegression\n",
    "\n",
    "# Initialize Spark Session\n",
    "spark = SparkSession.builder.appName('MLlib Example').getOrCreate()\n",
    "\n",
    "# Load sample data\n",
    "data = [(1, 5.0, 20.0), (2, 10.0, 25.0), (3, 15.0, 30.0), (4, 20.0, 35.0)]\n",
    "columns = ['ID', 'Feature', 'Target']\n",
    "df = spark.createDataFrame(data, columns)\n",
    "\n",
    "# Prepare data for modeling\n",
    "assembler = VectorAssembler(inputCols=['Feature'], outputCol='Features')\n",
    "df_transformed = assembler.transform(df)\n",
    "\n",
    "# Train a linear regression model\n",
    "lr = LinearRegression(featuresCol='Features', labelCol='Target')\n",
    "model = lr.fit(df_transformed)\n",
    "\n",
    "# Print model coefficients\n",
    "print(f'Coefficients: {model.coefficients}')\n",
    "print(f'Intercept: {model.intercept}')"
   ]
  },
  {
   "cell_type": "code",
   "execution_count": 3,
   "metadata": {},
   "outputs": [
    {
     "name": "stderr",
     "output_type": "stream",
     "text": [
      "24/12/12 13:30:25 WARN SparkSession: Using an existing Spark session; only runtime SQL configurations will take effect.\n",
      "                                                                                \r"
     ]
    },
    {
     "name": "stdout",
     "output_type": "stream",
     "text": [
      "Coefficients: [-12.262057891021882,4.087352253767593]\n",
      "Intercept: 11.568912688492174\n"
     ]
    }
   ],
   "source": [
    "# Practice: Logistic Regression\n",
    "from pyspark.ml.classification import LogisticRegression\n",
    "\n",
    "# Inisialisasi SparkSession\n",
    "spark = SparkSession.builder.appName(\"LogisticRegressionExample\").getOrCreate()\n",
    "\n",
    "# Contoh dataset\n",
    "data = [(1, 2.0, 3.0, 0), (2, 1.0, 5.0, 1), (3, 2.5, 4.5, 1), (4, 3.0, 6.0, 0)]\n",
    "columns = ['ID', 'Feature1', 'Feature2', 'Label']\n",
    "df = spark.createDataFrame(data, columns)\n",
    "\n",
    "# mengubah kolom feature1 dan feature2 menjadi vector\n",
    "assembler = VectorAssembler(inputCols=['Feature1', 'Feature2'], outputCol='Features')\n",
    "df = assembler.transform(df)\n",
    "\n",
    "# melatih model\n",
    "lr = LogisticRegression(featuresCol='Features', labelCol='Label')\n",
    "model = lr.fit(df)\n",
    "\n",
    "# menampilkan hasil\n",
    "print(f'Coefficients: {model.coefficients}')\n",
    "print(f'Intercept: {model.intercept}')"
   ]
  },
  {
   "cell_type": "code",
   "execution_count": 4,
   "metadata": {},
   "outputs": [
    {
     "name": "stdout",
     "output_type": "stream",
     "text": [
      "Coefficients: [-12.262057891021882,4.087352253767593]\n",
      "Intercept: 11.568912688492174\n"
     ]
    }
   ],
   "source": [
    "# Practice: Logistic Regression\n",
    "from pyspark.ml.classification import LogisticRegression\n",
    "\n",
    "# contoh dataset\n",
    "data = [(1, 2.0, 3.0, 0), (2, 1.0, 5.0, 1), (3, 2.5, 4.5, 1), (4, 3.0, 6.0, 0)]\n",
    "columns = ['ID', 'Feature1', 'Feature2', 'Label']\n",
    "df = spark.createDataFrame(data, columns)\n",
    "\n",
    "# menguhab kolom feature1 dan feature2 menjadi vector\n",
    "assembler = VectorAssembler(inputCols=['Feature1', 'Feature2'], outputCol='Features')\n",
    "df = assembler.transform(df)\n",
    "\n",
    "# melatih model\n",
    "lr = LogisticRegression(featuresCol='Features', labelCol='Label')\n",
    "model = lr.fit(df)\n",
    "\n",
    "# menampilkan hasil\n",
    "print(f'Coefficients: {model.coefficients}')\n",
    "print(f'Intercept: {model.intercept}')"
   ]
  },
  {
   "cell_type": "code",
   "execution_count": 4,
   "metadata": {},
   "outputs": [
    {
     "name": "stderr",
     "output_type": "stream",
     "text": [
      "                                                                                \r"
     ]
    },
    {
     "name": "stdout",
     "output_type": "stream",
     "text": [
      "+----+----+--------+\n",
      "|Rank| Num|Interval|\n",
      "+----+----+--------+\n",
      "|   1|   2|       2|\n",
      "|   2|   3|    NULL|\n",
      "|   3|   5|       2|\n",
      "|   4|NULL|    NULL|\n",
      "|   5|  11|    NULL|\n",
      "+----+----+--------+\n",
      "only showing top 5 rows\n",
      "\n",
      "Row count before dropping nulls: 999999\n"
     ]
    },
    {
     "name": "stderr",
     "output_type": "stream",
     "text": [
      "                                                                                \r"
     ]
    },
    {
     "name": "stdout",
     "output_type": "stream",
     "text": [
      "Row count after dropping nulls: 999995\n"
     ]
    },
    {
     "name": "stderr",
     "output_type": "stream",
     "text": [
      "24/12/12 14:18:07 ERROR LBFGS: Failure! Resetting history: breeze.optimize.StepSizeUnderflow: \n",
      "24/12/12 14:18:08 ERROR LBFGS: Failure again! Giving up and returning. Maybe the objective is just poorly behaved?\n",
      "                                                                                \r"
     ]
    },
    {
     "name": "stdout",
     "output_type": "stream",
     "text": [
      "Model Area Under ROC: 1.0\n"
     ]
    },
    {
     "name": "stderr",
     "output_type": "stream",
     "text": [
      "24/12/12 14:20:06 WARN Instrumentation: [c8fc8bb3] All labels are the same value and fitIntercept=true, so the coefficients will be zeros. Training is not needed.\n",
      "24/12/12 14:20:09 WARN Instrumentation: [377f5f9d] All labels are the same value and fitIntercept=true, so the coefficients will be zeros. Training is not needed.\n",
      "24/12/12 14:20:10 WARN Instrumentation: [fb973d76] All labels are the same value and fitIntercept=true, so the coefficients will be zeros. Training is not needed.\n",
      "24/12/12 14:20:11 WARN Instrumentation: [ca7b6fae] All labels are the same value and fitIntercept=true, so the coefficients will be zeros. Training is not needed.\n",
      "24/12/12 14:20:12 WARN Instrumentation: [cfa7625a] All labels are the same value and fitIntercept=true, so the coefficients will be zeros. Training is not needed.\n",
      "24/12/12 14:20:12 WARN Instrumentation: [9cefb489] All labels are the same value and fitIntercept=true, so the coefficients will be zeros. Training is not needed.\n",
      "24/12/12 14:20:13 WARN Instrumentation: [6b09e7e6] All labels are the same value and fitIntercept=true, so the coefficients will be zeros. Training is not needed.\n",
      "24/12/12 14:20:14 WARN Instrumentation: [1dc890fa] All labels are the same value and fitIntercept=true, so the coefficients will be zeros. Training is not needed.\n",
      "24/12/12 14:20:15 WARN Instrumentation: [2565ca75] All labels are the same value and fitIntercept=true, so the coefficients will be zeros. Training is not needed.\n",
      "                                                                                \r"
     ]
    },
    {
     "name": "stdout",
     "output_type": "stream",
     "text": [
      "Best Model Area Under ROC after Tuning: 1.0\n"
     ]
    }
   ],
   "source": [
    "from pyspark.sql import SparkSession\n",
    "from pyspark.ml.feature import VectorAssembler\n",
    "from pyspark.ml.classification import LogisticRegression\n",
    "from pyspark.ml.evaluation import BinaryClassificationEvaluator\n",
    "from pyspark.ml.tuning import CrossValidator, ParamGridBuilder\n",
    "\n",
    "# Initialize SparkSession\n",
    "spark = SparkSession.builder.appName(\"Homework\").getOrCreate()\n",
    "\n",
    "# Load data\n",
    "dataPath = \"1mm.csv\"\n",
    "df = spark.read.csv(dataPath, header=True, inferSchema=True)\n",
    "df.show(5)\n",
    "\n",
    "# Data preprocessing\n",
    "df = df.withColumn(\"Target\", (df[\"Rank\"] > df[\"Interval\"]).cast(\"int\"))\n",
    "df = df.select(\"Rank\", \"Num\", \"Interval\", \"Target\")\n",
    "print(f\"Row count before dropping nulls: {df.count()}\")\n",
    "df = df.na.drop()\n",
    "print(f\"Row count after dropping nulls: {df.count()}\")\n",
    "\n",
    "# Feature engineering\n",
    "featureCols = [\"Rank\", \"Num\", \"Interval\"]\n",
    "assembler = VectorAssembler(inputCols=featureCols, outputCol=\"Features\")\n",
    "df = assembler.transform(df)\n",
    "\n",
    "# Train-test split\n",
    "trainDf, testDf = df.randomSplit([0.8, 0.2], seed=42)\n",
    "\n",
    "# Logistic regression model\n",
    "lr = LogisticRegression(featuresCol=\"Features\", labelCol=\"Target\")\n",
    "model = lr.fit(trainDf)\n",
    "predictions = model.transform(testDf)\n",
    "\n",
    "# Model evaluation\n",
    "evaluator = BinaryClassificationEvaluator(labelCol=\"Target\", rawPredictionCol=\"rawPrediction\", metricName=\"areaUnderROC\")\n",
    "accuracy = evaluator.evaluate(predictions)\n",
    "print(f\"Model Area Under ROC: {accuracy}\")\n",
    "\n",
    "# Hyperparameter tuning\n",
    "paramGrid = ParamGridBuilder() \\\n",
    "    .addGrid(lr.regParam, [0.01, 0.1, 1.0]) \\\n",
    "    .addGrid(lr.elasticNetParam, [0.0, 0.5, 1.0]) \\\n",
    "    .build()\n",
    "\n",
    "crossval = CrossValidator(estimator=lr, estimatorParamMaps=paramGrid, evaluator=evaluator, numFolds=5)\n",
    "cvModel = crossval.fit(trainDf)\n",
    "bestModel = cvModel.bestModel\n",
    "\n",
    "# Evaluate best model\n",
    "predictions = bestModel.transform(testDf)\n",
    "accuracy = evaluator.evaluate(predictions)\n",
    "print(f\"Best Model Area Under ROC after Tuning: {accuracy}\")\n"
   ]
  }
 ],
 "metadata": {
  "kernelspec": {
   "display_name": "Python 3",
   "language": "python",
   "name": "python3"
  },
  "language_info": {
   "codemirror_mode": {
    "name": "ipython",
    "version": 3
   },
   "file_extension": ".py",
   "mimetype": "text/x-python",
   "name": "python",
   "nbconvert_exporter": "python",
   "pygments_lexer": "ipython3",
   "version": "3.12.1"
  }
 },
 "nbformat": 4,
 "nbformat_minor": 2
}
